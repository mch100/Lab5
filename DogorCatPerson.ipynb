{
 "cells": [
  {
   "cell_type": "markdown",
   "metadata": {},
   "source": [
    "# Lab 5 Exercise"
   ]
  },
  {
   "cell_type": "code",
   "execution_count": 3,
   "metadata": {},
   "outputs": [
    {
     "name": "stdin",
     "output_type": "stream",
     "text": [
      "What is your name? n\n",
      "Type d if you like dogs and c if you like cats. n\n"
     ]
    },
    {
     "name": "stdout",
     "output_type": "stream",
     "text": [
      "Please input either c or d.\n"
     ]
    },
    {
     "name": "stdin",
     "output_type": "stream",
     "text": [
      "Type d if you like dogs and c if you like cats. d\n"
     ]
    },
    {
     "name": "stdout",
     "output_type": "stream",
     "text": [
      "n, you are a dog person!\n"
     ]
    }
   ],
   "source": [
    "# Takes the name of the user\n",
    "name = input(\"What is your name?\")\n",
    "\n",
    "# Takes what their favorite animal is\n",
    "while(True):\n",
    "    animal = input(\"Type d if you like dogs and c if you like cats.\")\n",
    "    animal = animal.lower()\n",
    "    if(animal == \"c\"):\n",
    "        print(name + \", you are a cat person!\")\n",
    "        break\n",
    "    if(animal == \"d\"):\n",
    "        print(name + \", you are a dog person!\")\n",
    "        break\n",
    "    else:\n",
    "        print(\"Please input either c or d.\")\n"
   ]
  }
 ],
 "metadata": {
  "kernelspec": {
   "display_name": "Python 3",
   "language": "python",
   "name": "python3"
  },
  "language_info": {
   "codemirror_mode": {
    "name": "ipython",
    "version": 3
   },
   "file_extension": ".py",
   "mimetype": "text/x-python",
   "name": "python",
   "nbconvert_exporter": "python",
   "pygments_lexer": "ipython3",
   "version": "3.8.3"
  }
 },
 "nbformat": 4,
 "nbformat_minor": 4
}
